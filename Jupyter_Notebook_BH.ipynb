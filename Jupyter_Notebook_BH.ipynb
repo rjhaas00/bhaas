{
  "metadata": {
    "kernelspec": {
      "name": "python",
      "display_name": "Pyolite",
      "language": "python"
    },
    "language_info": {
      "codemirror_mode": {
        "name": "python",
        "version": 3
      },
      "file_extension": ".py",
      "mimetype": "text/x-python",
      "name": "python",
      "nbconvert_exporter": "python",
      "pygments_lexer": "ipython3",
      "version": "3.8"
    }
  },
  "nbformat_minor": 4,
  "nbformat": 4,
  "cells": [
    {
      "cell_type": "markdown",
      "source": "<center>\n    <img src=\"https://cf-courses-data.s3.us.cloud-object-storage.appdomain.cloud/IBMDeveloperSkillsNetwork-DS0105EN-SkillsNetwork/labs/Module2/images/SN_web_lightmode.png\" width=\"300\" alt=\"cognitiveclass.ai logo\">\n</center>\n",
      "metadata": {}
    },
    {
      "cell_type": "markdown",
      "source": "# My Jupyter Notebook on Skills Network",
      "metadata": {}
    },
    {
      "cell_type": "markdown",
      "source": "## This is a general notebook / project",
      "metadata": {}
    },
    {
      "cell_type": "markdown",
      "source": "<b>Some of the popluar languages that Data Scientist use are:</b>\n<ol>\n    <li>R</li>\n    <li>Python</li>\n    <li>SQL</li>\n    <li>Java</li>\n    <li>Scala</li>\n</ol> ",
      "metadata": {}
    },
    {
      "cell_type": "markdown",
      "source": "<b>Some of the commonly used libraries used by Data Scientists include:</b>\n<ul>\n    <li>Pandas</li>\n    <li>Numpy</li>\n    <li>Matplotlib</li>\n    <li>keras</li>\n    <li>TensorFlow</li>\n</ul> ",
      "metadata": {}
    },
    {
      "cell_type": "markdown",
      "source": "## markdown cell with a table of Data Science tools\n<table>\n<tr>\n    <th>Number</th>\n    <th>Data Science Tool</th> \n</tr>\n\n<tr>\n    <td>1</td> \n    <td>IBM SPSS</td> \n</tr>\n\n<tr>\n    <td>2</td> \n    <td>Julia</td>   \n</tr>\n<tr>\n    <td>3</td> \n    <td>Jupyter Notebooks</td>   \n</tr>\n</table>",
      "metadata": {
        "tags": []
      }
    },
    {
      "cell_type": "markdown",
      "source": "### markdown cell introducing arithmetic expression examples a + b",
      "metadata": {
        "tags": []
      }
    },
    {
      "cell_type": "code",
      "source": "#markdown cell introducing arithmetic expression examples\na = 1\nb = 2\nc= b * b + a\nprint (c)",
      "metadata": {
        "tags": [],
        "trusted": true
      },
      "execution_count": 14,
      "outputs": [
        {
          "name": "stdout",
          "text": "5\n",
          "output_type": "stream"
        }
      ]
    },
    {
      "cell_type": "code",
      "source": "## convert minutes to hours\nmin = 3600\nhrs = min / 60\nprint (hrs)",
      "metadata": {
        "trusted": true
      },
      "execution_count": 10,
      "outputs": [
        {
          "name": "stdout",
          "text": "60.0\n",
          "output_type": "stream"
        }
      ]
    },
    {
      "cell_type": "markdown",
      "source": "##List of Objectives",
      "metadata": {
        "tags": []
      }
    },
    {
      "cell_type": "markdown",
      "source": "## Objectives\n<ul>\n    <li>Understand why Python is a useful scripting language for developers</li>\n<li>To learn how to design and program Python applications</li>\n    <li>To learn how to use lists in Python programs</li>\n</ul> ",
      "metadata": {}
    },
    {
      "cell_type": "markdown",
      "source": "## Author - \n Bob Haas",
      "metadata": {}
    },
    {
      "cell_type": "code",
      "source": "",
      "metadata": {},
      "execution_count": null,
      "outputs": []
    }
  ]
}