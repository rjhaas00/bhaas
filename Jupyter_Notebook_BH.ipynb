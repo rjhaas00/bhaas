{
  "metadata": {
    "kernelspec": {
      "name": "python",
      "display_name": "Pyolite",
      "language": "python"
    },
    "language_info": {
      "codemirror_mode": {
        "name": "python",
        "version": 3
      },
      "file_extension": ".py",
      "mimetype": "text/x-python",
      "name": "python",
      "nbconvert_exporter": "python",
      "pygments_lexer": "ipython3",
      "version": "3.8"
    }
  },
  "nbformat_minor": 4,
  "nbformat": 4,
  "cells": [
    {
      "cell_type": "markdown",
      "source": "<center>\n    <img src=\"https://cf-courses-data.s3.us.cloud-object-storage.appdomain.cloud/IBMDeveloperSkillsNetwork-DS0105EN-SkillsNetwork/labs/Module2/images/SN_web_lightmode.png\" width=\"300\" alt=\"cognitiveclass.ai logo\">\n</center>\n",
      "metadata": {}
    },
    {
      "cell_type": "markdown",
      "source": "#### Add your code below following the instructions given in the course\n",
      "metadata": {}
    },
    {
      "cell_type": "markdown",
      "source": "<h1>My Jupyter Notebook on Skills Network<h1>",
      "metadata": {}
    },
    {
      "cell_type": "markdown",
      "source": "<b>This is a general notebook / project</b>",
      "metadata": {}
    },
    {
      "cell_type": "markdown",
      "source": "<a href=\"https://dataplatform.cloud.ibm.com/gallery\">IBM Cloud Gallery</a> ",
      "metadata": {}
    },
    {
      "cell_type": "markdown",
      "source": "##this is an ordered list of Data Science laguages\n<ol>\n    <li>R</li>\n    <li>Python</li>\n    <li>SQL</li>\n</ol> ",
      "metadata": {}
    },
    {
      "cell_type": "markdown",
      "source": "##this is a list of Data Science Libraries\n<ol>\n    <li>TensorFlow</li>\n    <li>Keras</li>\n    <li>Pytorch</li>\n</ol> ",
      "metadata": {}
    },
    {
      "cell_type": "markdown",
      "source": "## markdown cell with a table of Data Science tools\n<table>\n<tr>\n    <th>Number</th>\n    <th>Data Science Tool</th> \n</tr>\n\n<tr>\n    <td>1</td> \n    <td>IBM SPSS</td> \n</tr>\n\n<tr>\n    <td>2</td> \n    <td>Julia</td>   \n</tr>\n<tr>\n    <td>3</td> \n    <td>Jupyter Notebooks</td>   \n</tr>\n</table>",
      "metadata": {
        "tags": []
      }
    },
    {
      "cell_type": "markdown",
      "source": "<b>markdown cell introducing arithmetic expression examples<b>",
      "metadata": {
        "tags": []
      }
    },
    {
      "cell_type": "code",
      "source": "## markdown cell introducing arithmetic expression examples\na = 1\nb = 2\nc= b * b + a\nprint (c)",
      "metadata": {
        "tags": [],
        "trusted": true
      },
      "execution_count": 1,
      "outputs": [
        {
          "name": "stdout",
          "text": "5\n",
          "output_type": "stream"
        }
      ]
    },
    {
      "cell_type": "code",
      "source": "## convert minutes to hours\nmin = 3600\nhrs = min / 60\nprint (hrs)",
      "metadata": {
        "trusted": true
      },
      "execution_count": 2,
      "outputs": [
        {
          "name": "stdout",
          "text": "60.0\n",
          "output_type": "stream"
        }
      ]
    },
    {
      "cell_type": "markdown",
      "source": "<b> Author - Bob Haas </b>",
      "metadata": {}
    },
    {
      "cell_type": "code",
      "source": "",
      "metadata": {},
      "execution_count": null,
      "outputs": []
    },
    {
      "cell_type": "markdown",
      "source": "##this is an unordered list of Data Science Libraries\n<ul>\n    <li>TensorFlow</li>\n    <li>Keras</li>\n    <li>Pytorch</li>\n</ul> ",
      "metadata": {}
    },
    {
      "cell_type": "code",
      "source": "",
      "metadata": {},
      "execution_count": null,
      "outputs": []
    }
  ]
}